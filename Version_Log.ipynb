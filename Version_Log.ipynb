{
  "nbformat": 4,
  "nbformat_minor": 0,
  "metadata": {
    "colab": {
      "name": "Version_Log.ipynb",
      "provenance": [],
      "collapsed_sections": [],
      "toc_visible": true
    },
    "kernelspec": {
      "name": "python3",
      "display_name": "Python 3"
    }
  },
  "cells": [
    {
      "cell_type": "markdown",
      "metadata": {
        "id": "Y9bjXKVwaGxN"
      },
      "source": [
        "# <font size=\"6\">**Version Log**</font>\n"
      ]
    },
    {
      "cell_type": "markdown",
      "metadata": {
        "id": "R78uyxavq1js"
      },
      "source": [
        "###Usage Information\n",
        "- <font size=\"2\">Change to V 1.(n+1) for every update that makes it into a student version</font>\n",
        "- <font size=\"2\">Make a new markdown cell for each Update and follow the  established format</font>\n",
        "- <font size=\"2\">If code is added, place the code in the update </font>"
      ]
    },
    {
      "cell_type": "markdown",
      "metadata": {
        "id": "fm7pHJdSa74o"
      },
      "source": [
        "##1.4 (Thomas Horning, 1434, 18 October 2020)\n",
        "\n",
        "*Changes:*\n",
        "- Collapsed Student Version so it takes less space for them.\n",
        " - Same amount on pdf unfortunately\n",
        "\n",
        "- Reformatted code for readability and useability\n",
        "\n",
        "- Added color class in order to better distinguish the output of the watermark and errors\n",
        " - ```\n",
        "class color:\n",
        "    BLUE = '\\033[94m'\n",
        "    BOLD = '\\033[1m'\n",
        "    UNDERLINE = '\\033[4m'\n",
        "    END = '\\033[0m'\n",
        "    FAIL = '\\033[91m'\n",
        "    WARNING = '\\033[93m'\n",
        "print(color.UNDERLINE,'Unique Watermark',color.END,'\\U0001F512\\n',color.END)\n",
        "print(color.BOLD,color.BLUE,now.strftime(\"%d/%m/%Y %H:%M:%S\"),\" \",\n",
        "      str(random.randrange(1000000, 9999999, 1)),color.END,'\\n')\n",
        "...\n",
        "  print(color.BOLD,color.FAIL, \"\\nCould not find file in your Drive!\\n\" \n",
        "        ,color.END,color.WARNING,\" - Make sure you input the correct filename\\n\"\n",
        "        ,\" - Make sure the file is saved in the google drive you mounted\\n\\n\"\n",
        "        ,color.END)\n",
        "...\n",
        "  print(color.BOLD,color.WARNING, \"Exception Occured, Please Check Log\"\n",
        "  ,color.END)\n",
        "...\n",
        "  print(color.GREEN,\"Conversion Complete!\\nGreat Job and Have a Wonderful Day!\",color.END,\"\\U0001F30C\")\n",
        "```\n",
        "\n",
        "- Suppressed nbconvert to only errors\n",
        " - ```\n",
        "!jupyter nbconvert --to pdf \"{fileloc}\" --log-level ERROR\n",
        "```\n",
        "\n",
        "- Added error Handling for the two most common Errors (Wrong filename,File Not in Drive)\n",
        " - Error, Type, Traceback are now saved into an as-needed created file ErrorLog.txt when an error or exception occurs\n",
        " - Suppressed error output for user and replaced with Solutions\n",
        " - ```\n",
        "import sys\n",
        "...\n",
        "try:\n",
        "  fileloc = loc[0]\n",
        "except IndexError as error:\n",
        "  print(color.BOLD,color.FAIL, \"\\nCould not find file in your Drive!\\n\" \n",
        "        ,color.END,color.WARNING,\" - Make sure you input the correct filename\\n\"\n",
        "        ,\" - Make sure the file is saved in the google drive you mounted\\n\\n\"\n",
        "        ,color.END)\n",
        "  Er = str('Error: {}. {}, line: {}'.format(sys.exc_info()[0],\n",
        "                                            sys.exc_info()[1],\n",
        "                                            sys.exc_info()[2].tb_lineno))\n",
        "  f = open(\"ErrorLog.txt\",\"a+\"); f.write(Er); f.close()\n",
        "  sys.tracebacklimit=0\n",
        "  sys.exit(\"Please Try Again\") \n",
        "except Exception as exception:\n",
        "  print(color.BOLD,color.WARNING, \"Exception Occured, Please Check Log\"\n",
        "  ,color.END)\n",
        "  Er = str('Error: {}. {}, line: {}'.format(sys.exc_info()[0],\n",
        "                                            sys.exc_info()[1],\n",
        "                                            sys.exc_info()[2].tb_lineno))\n",
        "  f = open(\"ErrorLog.txt\",\"a+\");f.write(Er);f.close()\n",
        "  sys.tracebacklimit=0\n",
        "  sys.exit(\"Please Try Again\")\n",
        "```\n"
      ]
    },
    {
      "cell_type": "markdown",
      "metadata": {
        "id": "9wnbXbg9pO4L"
      },
      "source": [
        "##1.3 (Alexandra Werth, 0555, 27 September 2020)\n",
        "\n",
        "*Changes:*\n",
        "\n",
        "- Added \n",
        "\n",
        "```\n",
        "# watermark \n",
        "from datetime import datetime\n",
        "import random \n",
        "now = datetime.now()\n",
        "print('\\n', now.strftime(\"%d/%m/%Y %H:%M:%S\"), random.randrange(1000000, 9999999, 1))\n",
        "```\n",
        "to display the date and time of PDF creation and a random 7-digit number associated with the document."
      ]
    },
    {
      "cell_type": "markdown",
      "metadata": {
        "id": "VGwl-r0FpY0h"
      },
      "source": [
        "##1.2 (Arvind Aradhya, 2116, 25 September 2020)\n",
        "\n",
        "*Changes:*\n",
        "\n",
        "- Added \n",
        "\n",
        "```\n",
        "  >> outputsuppressed.txt\n",
        "```\n",
        "to all the lines that involve installs, so as to suppress the debug messages that are usually printed to console, from appearing on the console, and subsequently, appearing in the PDF. Shaves off about 10 pages. \n",
        "- Improved Version Log"
      ]
    },
    {
      "cell_type": "markdown",
      "metadata": {
        "id": "QlQDIK5epiOD"
      },
      "source": [
        "\n",
        "##1.1 (Thomas Horning, 1248, 25 September 2020)\n",
        "\n",
        "*Changes:*\n",
        "\n",
        "- Added completion responses\n",
        "```\n",
        "!echo 'Finding file. This may take a minute or two depending on the size of your drive'\n",
        "```\n",
        "```\n",
        "!echo \"\";echo \"Conversion Complete. The pdf will be in the same location as your .ipynb file\";echo \"\";echo \"Have a Nice Day!\"\n",
        "```\n",
        "- Added Version Control and Dev Notes in Markdown\n",
        "\n"
      ]
    },
    {
      "cell_type": "markdown",
      "metadata": {
        "id": "a2WSZg8KplyA"
      },
      "source": [
        "##1.0 (Thomas Horning, 0001, 25 September 2020)\n",
        "- <font size=\"5\"> ***Document Genesis*** </font>"
      ]
    },
    {
      "cell_type": "markdown",
      "metadata": {
        "id": "GJOuSUBCtDG-"
      },
      "source": [
        "#Previous Versions\n",
        "Please place the previous versions code in a markdown cell below when an Update is pushed to students"
      ]
    },
    {
      "cell_type": "markdown",
      "metadata": {
        "id": "rvrlfcOvZ8wX"
      },
      "source": [
        "##Version 1.3"
      ]
    },
    {
      "cell_type": "markdown",
      "metadata": {
        "id": "rcfQ2dCaaeB-"
      },
      "source": [
        "### 2020-10-18_1433\n",
        "Saved by: Thomas Horning\n",
        "```\n",
        "###############################################################\n",
        "#Version 1.3  <--- Please Update After change and pin revision when you save!\n",
        "###############################################################\n",
        "\n",
        "#This code converts an .ipynb file to a Tex based PDF and saves it in the Colab\n",
        "#Notebook folder with the same filename.pdf\n",
        "\n",
        "filename = 'Week5_UnitAnalysis_and_PlotSolarFlareData.ipynb' # Ex. 'Coding_Packet.ipynb'\n",
        "\n",
        "from google.colab import drive\n",
        "drive.mount('/content/gdrive', force_remount = True) # This is done first because we need a temporal delay between mounting and calling\n",
        "#Install some dependences into the RUNTIME (is not local, needs to reinstall every Factory runtime)\n",
        "!pip install IPython >> outputsuppressed.txt\n",
        "!pip install Latex >> outputsuppressed.txt\n",
        "!pip install pandoc >> outputsuppressed.txt\n",
        "!pip install nbconvert >> outputsuppressed.txt\n",
        "!pip install jupyter >> outputsuppressed.txt\n",
        "\n",
        "#Well known Ubuntu Tex library\n",
        "!apt-get install texlive-xetex texlive-fonts-recommended texlive-generic-recommended >> outputsuppressed.txt\n",
        "\n",
        "# Searches the Google drive directory for the filename and gives back it's location\n",
        "#(This accounts for Wildcards and Spaces in the directory names)\n",
        "#Uses jupyter and nbconvert to convert the ipynb file to a Tex file, then into a\n",
        "#pdf\n",
        "\n",
        "!IFS=$'\\n' #Sets the reader to only break at newlines instead of spaces,tabs,and newlines\n",
        "!echo 'Finding file. This may take a minute or two depending on the size of your drive'\n",
        "loc= !find '/content/gdrive' -name \"{filename}\"\n",
        "fileloc = loc[0]\n",
        "!jupyter nbconvert --to pdf \"{fileloc}\"\n",
        "\n",
        "# watermark \n",
        "from datetime import datetime\n",
        "import random \n",
        "now = datetime.now()\n",
        "print('\\n', now.strftime(\"%d/%m/%Y %H:%M:%S\"), random.randrange(1000000, 9999999, 1))\n",
        "\n",
        "# The PDF will be in the same folder as the original file\n",
        "!echo \"\";echo \"Conversion Complete. The pdf will be in the same location as your .ipynb file\";echo \"\";echo \"Have a Nice Day!\"\n",
        "```"
      ]
    },
    {
      "cell_type": "markdown",
      "metadata": {
        "id": "sOY8wnCitN4u"
      },
      "source": [
        "## Version 1.1 \n"
      ]
    },
    {
      "cell_type": "markdown",
      "metadata": {
        "id": "AtCtYnxvuFBG"
      },
      "source": [
        "### Genesis\n",
        "Saved by: Thomas Horning\n",
        "\n",
        "```\n",
        "#This code converts an .ipynb file to a Tex based PDF and saves it in the Colab\n",
        "#Notebook folder with the same filename.pdf\n",
        "\n",
        "filename = 'filename.ipynb' # Ex. 'Coding_Packet.ipynb'\n",
        "\n",
        "from google.colab import drive\n",
        "drive.mount('/content/gdrive', force_remount = True) # This is done first because we need a temporal delay between mounting and calling\n",
        "#Install some dependences into the RUNTIME (is not local, needs to reinstall every Factory runtime)\n",
        "!pip install IPython \n",
        "!pip install Latex \n",
        "!pip install pandoc\n",
        "!pip install nbconvert\n",
        "!pip install jupyter\n",
        "\n",
        "#Well known Ubuntu Tex library\n",
        "!apt-get install texlive-xetex texlive-fonts-recommended texlive-generic-recommended\n",
        "\n",
        "# Searches the Google drive directory for the filename and gives back it's location\n",
        "#(This accounts for Wildcards and Spaces in the directory names)\n",
        "#Uses jupyter and nbconvert to convert the ipynb file to a Tex file, then into a\n",
        "#pdf\n",
        "\n",
        "!IFS=$'\\n' #Sets the reader to only break at newlines instead of spaces,tabs,and newlines\n",
        "!echo 'Finding file. This may take a minute or two depending on the size of your drive'\n",
        "loc= !find '/content/gdrive' -name \"{filename}\"\n",
        "fileloc = loc[0]\n",
        "!jupyter nbconvert --to pdf \"{fileloc}\"\n",
        "\n",
        "```\n"
      ]
    }
  ]
}