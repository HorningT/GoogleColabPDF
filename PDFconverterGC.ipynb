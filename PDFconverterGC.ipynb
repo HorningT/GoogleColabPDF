{
  "nbformat": 4,
  "nbformat_minor": 0,
  "metadata": {
    "colab": {
      "name": "PDFconverterGC.ipynb",
      "provenance": [],
      "collapsed_sections": [],
      "toc_visible": true
    },
    "kernelspec": {
      "name": "python3",
      "display_name": "Python 3"
    }
  },
  "cells": [
    {
      "cell_type": "markdown",
      "metadata": {
        "id": "L1fLJ2pl4VnM"
      },
      "source": [
        "# Converter from .ipynb to .pdf"
      ]
    },
    {
      "cell_type": "markdown",
      "metadata": {
        "id": "AGS3tCnV6JIA"
      },
      "source": [
        "# Version 1.4 \n"
      ]
    },
    {
      "cell_type": "markdown",
      "metadata": {
        "id": "oqy4zSfBi23R"
      },
      "source": [
        "### Converter\n",
        "Save your .ipynb colab file into your Colab Notebooks folder in your Google Drive. \n",
        "\n",
        "[/content/gdrive/MyDrive/Colab Notebooks]()\n",
        "\n"
      ]
    },
    {
      "cell_type": "code",
      "metadata": {
        "id": "YwJWuv5pc94N",
        "outputId": "ae09ec73-1ded-40ab-a81b-f3f6ece27370",
        "colab": {
          "base_uri": "https://localhost:8080/",
          "height": 323
        }
      },
      "source": [
        "################################################################################\n",
        "#                    CODE TO CONVERT COLAB NOTEBOOK TO PDF                     #\n",
        "#This code converts an .ipynb file to a Tex based PDF and saves it in the Colab#\n",
        "#Notebook folder with the same filename.pdf                                    #\n",
        "################################################################################\n",
        "\n",
        "filename = 'PDFconverterGC.ipynb' # Ex. 'Coding_Packet.ipynb'\n",
        "\n",
        "################################################################################\n",
        "# Code\n",
        "################################################################################\n",
        "# Imports\n",
        "from google.colab import drive; from datetime import datetime; import sys; \n",
        "import random; import time\n",
        "# To make Watermark distinctive\n",
        "class color:\n",
        "  BLUE = '\\033[94m';\n",
        "  GREEN = '\\033[92m';\n",
        "  BOLD = '\\033[1m';\n",
        "  UNDERLINE = '\\033[4m';\n",
        "  END = '\\033[0m';\n",
        "  FAIL = '\\033[91m';\n",
        "  WARNING = '\\033[93m'\n",
        "\n",
        "# Make Watermark\n",
        "now = datetime.now()\n",
        "print(color.UNDERLINE,'Unique Watermark',color.END,'\\U0001F512\\n',color.END)\n",
        "print(color.BOLD,color.BLUE,now.strftime(\"%d/%m/%Y %H:%M:%S\"),\" \"\n",
        "      ,str(random.randrange(1000000, 9999999, 1)),color.END,'\\n')\n",
        "\n",
        "# Mount Drive First to give time for mounting to process\n",
        "drive.mount('/content/gdrive', force_remount = True) \n",
        "\n",
        "# Install some dependences into the RUNTIME (is not local, needs to reinstall \n",
        "# every Factory runtime)\n",
        "t1 = time.time()\n",
        "!pip install IPython >> outputsuppressed.txt\n",
        "!pip install Latex >> outputsuppressed.txt\n",
        "!pip install pandoc >> outputsuppressed.txt\n",
        "!pip install nbconvert >> outputsuppressed.txt\n",
        "!pip install jupyter >> outputsuppressed.txt\n",
        "!apt-get install texlive-xetex texlive-fonts-recommended texlive-generic-recommended >> outputsuppressed.txt\n",
        "t2 = time.time(); m = str(int((t2-t1)/60)); s = str(int((t2-t1)% 60))\n",
        "print(\"Install Time: \",m,\" m  \",s,\" s\")\n",
        "\n",
        "# Searches the Google drive directory for the filename and gives back it's \n",
        "# location (This accounts for Wildcards and Spaces in the directory names).\n",
        "# Uses jupyter and nbconvert to convert to a Tex file, then into a pdf \n",
        "print('\\nFinding file. This may take a minute or two depending on the size of your drive...\\n')\n",
        "!IFS=$'\\n' #Sets the reader to only break at newlines instead of spaces, tabs,and newlines\n",
        "loc = !find '/content/gdrive/MyDrive/Colab Notebooks' -name \"{filename}\"\n",
        "# Handle Common Errors\n",
        "try:\n",
        "  fileloc = loc[0]\n",
        "except IndexError as error:\n",
        "  print(color.BOLD,color.FAIL, \"\\nCould not find file in your Drive!\\n\" \n",
        "        ,color.END,color.WARNING\n",
        "        ,\"- Make sure you input the correct filename\\n\"\n",
        "        ,\"  - Make sure the file is saved in the google drive you mounted\\n\\n\"\n",
        "        ,color.END)\n",
        "  Er = str('Error: {}. {}, line: {}'.format(sys.exc_info()[0],sys.exc_info()[1]\n",
        "                                            ,sys.exc_info()[2].tb_lineno))\n",
        "  f = open(\"ErrorLog.txt\",\"a+\"); f.write(Er); f.close()\n",
        "  sys.tracebacklimit=0\n",
        "  sys.exit(\"Please Try Again\") \n",
        "except Exception as exception:\n",
        "  print(color.BOLD,color.WARNING, \"Exception Occured, Please Check Log\",color.END)\n",
        "  Er = str('Error: {}. {}, line: {}'.format(sys.exc_info()[0],sys.exc_info()[1]\n",
        "                                            ,sys.exc_info()[2].tb_lineno))\n",
        "  f = open(\"ErrorLog.txt\",\"a+\");f.write(Er);f.close()\n",
        "  sys.tracebacklimit=0\n",
        "  sys.exit(\"Please Try Again\")\n",
        "print('File Location: ',str(fileloc),'\\n')\n",
        "t3 = time.time(); \n",
        "m = str(int((t3-t2)/60)); \n",
        "s = str(int((t3-t2)% 60))\n",
        "print(\"Search Time: \",m,\" m  \",s,\" s\")\n",
        "\n",
        "# Autosave file \n",
        "%autosave 5\n",
        "!sleep 15s\n",
        "\n",
        "# Convert the file\n",
        "!jupyter nbconvert --to pdf \"{fileloc}\" --log-level ERROR\n",
        "# The PDF will be in the same folder as the original file\n",
        "print(color.GREEN,\"Conversion Complete!\\nGreat Job and Have a Wonderful Day!\"\n",
        "      ,color.END,\"\\U0001F30C\")\n",
        "%autosave 120\n",
        "\n",
        "t4 = time.time(); \n",
        "m = str(int((t4-t3)/60));\n",
        "s = str(int((t4-t3)% 60))\n",
        "print(\"Conversion Time: \",m,\" m  \",s,\" s\")\n",
        "m = str(int((t4-t1)/60)); \n",
        "s = str(int((t4-t1)% 60))\n",
        "print(\"Total Time: \",m,\" m  \",s,\" s\")\n",
        "############ Version Control:\n",
        "# Last Update: 2020-10-18, 1459 - V 1.4.1 - Thomas Horning\n",
        "# - Error Handling\n",
        "# - Autosave added before conversion so that watermark is gaurenteed\n",
        "# - Added timers for debugging\n",
        "# Created by Thomas Horning\n"
      ],
      "execution_count": null,
      "outputs": [
        {
          "output_type": "stream",
          "text": [
            "\u001b[4m Unique Watermark \u001b[0m 🔒\n",
            " \u001b[0m\n",
            "\u001b[1m \u001b[94m 16/11/2020 19:39:04   7795039 \u001b[0m \n",
            "\n",
            "Mounted at /content/gdrive\n",
            "Install Time:  0  m   14  s\n",
            "\n",
            "Finding file. This may take a minute or two depending on the size of your drive...\n",
            "\n",
            "File Location:  /content/gdrive/MyDrive/Colab Notebooks/PDFconverterGC.ipynb \n",
            "\n",
            "Search Time:  0  m   0  s\n"
          ],
          "name": "stdout"
        },
        {
          "output_type": "display_data",
          "data": {
            "application/javascript": [
              "IPython.notebook.set_autosave_interval(5000)"
            ]
          },
          "metadata": {
            "tags": []
          }
        },
        {
          "output_type": "stream",
          "text": [
            "Autosaving every 5 seconds\n",
            "\u001b[92m Conversion Complete!\n",
            "Great Job and Have a Wonderful Day! \u001b[0m 🌌\n"
          ],
          "name": "stdout"
        },
        {
          "output_type": "display_data",
          "data": {
            "application/javascript": [
              "IPython.notebook.set_autosave_interval(120000)"
            ]
          },
          "metadata": {
            "tags": []
          }
        },
        {
          "output_type": "stream",
          "text": [
            "Autosaving every 120 seconds\n",
            "Conversion Time:  0  m   19  s\n",
            "Total Time:  0  m   35  s\n"
          ],
          "name": "stdout"
        }
      ]
    },
    {
      "cell_type": "markdown",
      "metadata": {
        "id": "1vTEYf_1lMxi"
      },
      "source": [
        "###Current Common Errors\n",
        "- Not handling spaces. Rename with no (1)\n",
        "  - Usually Gives a LaTex Error\n",
        "- Not handling Images of any kind\n",
        " - Built-in insert image breaks conversion\n",
        "   - ![something]{something}\n"
      ]
    },
    {
      "cell_type": "markdown",
      "metadata": {
        "id": "EFq73f6kjFEm"
      },
      "source": [
        "###Developer Notes\n",
        "\n",
        " - Locate Command would be WAY faster given how restricted our search is, I have not been able to get it to work or install the right dependencies.\n",
        " - There are many redundant installs in the beginning. This is because it works, and I am scared to touch it\n",
        " - I run into Excessive search time issues on a 65 Gb Drive. I found the time is cut if you run the installs in a seperate code cell First. Then run the search"
      ]
    }
  ]
}